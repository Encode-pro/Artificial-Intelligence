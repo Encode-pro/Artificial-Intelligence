{
 "cells": [
  {
   "cell_type": "code",
   "execution_count": 1,
   "metadata": {},
   "outputs": [
    {
     "name": "stdout",
     "output_type": "stream",
     "text": [
      "NO OF FACES : 4\n",
      "FACE 1 : green\n",
      "FACE 2 : blue\n",
      "FACE 3 : yellow\n",
      "FACE 4 : red\n"
     ]
    }
   ],
   "source": [
    "import networkx as nx\n",
    "\n",
    "G = nx.Graph()\n",
    "\n",
    "colors = {0:\"red\", 1:\"green\", 2:\"blue\", 3:\"yellow\"}\n",
    "\n",
    "G.add_nodes_from([1,2,3,4,5])\n",
    "G.add_edges_from([(1,2), (1,3), (2,4), (3,4), (4,5)])\n",
    "\n",
    "nodes = list(G.nodes)\n",
    "edges = list(G.edges)\n",
    "some_colors = ['red','green','blue','yellow']\n",
    "\n",
    "no_of_faces = len(edges)+2-len(nodes)-1\n",
    "def regionColour(regions):\n",
    "    print(\"NO OF FACES : \"+str(regions))\n",
    "    for i in range(1,regions+1):\n",
    "        print(f\"FACE {i} : \"+some_colors[i%4])\n",
    "\n",
    "regionColour(4)"
   ]
  },
  {
   "cell_type": "code",
   "execution_count": null,
   "metadata": {},
   "outputs": [],
   "source": []
  }
 ],
 "metadata": {
  "kernelspec": {
   "display_name": "Python 3",
   "language": "python",
   "name": "python3"
  },
  "language_info": {
   "codemirror_mode": {
    "name": "ipython",
    "version": 3
   },
   "file_extension": ".py",
   "mimetype": "text/x-python",
   "name": "python",
   "nbconvert_exporter": "python",
   "pygments_lexer": "ipython3",
   "version": "3.8.5"
  }
 },
 "nbformat": 4,
 "nbformat_minor": 4
}
